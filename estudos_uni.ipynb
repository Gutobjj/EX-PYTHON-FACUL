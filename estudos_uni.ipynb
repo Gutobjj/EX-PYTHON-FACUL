{
  "nbformat": 4,
  "nbformat_minor": 0,
  "metadata": {
    "colab": {
      "provenance": [],
      "authorship_tag": "ABX9TyPxH5RRpsi4isnZb+7IeNXm",
      "include_colab_link": true
    },
    "kernelspec": {
      "name": "python3",
      "display_name": "Python 3"
    },
    "language_info": {
      "name": "python"
    }
  },
  "cells": [
    {
      "cell_type": "markdown",
      "metadata": {
        "id": "view-in-github",
        "colab_type": "text"
      },
      "source": [
        "<a href=\"https://colab.research.google.com/github/Gutobjj/certificados-fac/blob/main/estudos_uni.ipynb\" target=\"_parent\"><img src=\"https://colab.research.google.com/assets/colab-badge.svg\" alt=\"Open In Colab\"/></a>"
      ]
    },
    {
      "cell_type": "code",
      "source": [
        "#EXERCICIO-01-PYTHON\n",
        "\n",
        "#Identificação = JOSE AUGUSTO DE JESUS FILHO RU: 3034202\n",
        "print('Seja bem-vindo a loja do JOSE AUGUSTO DE JESUS FILHO RU: 3034202')\n",
        "\n",
        "#guia_Valores.\n",
        "valor = float(input('Insira o valor do produto: '))\n",
        "quantidade = float(input('Insira a quantidade de produtos: '))\n",
        "\n",
        "#se menor ou igual a 4, o desconto é de 0 (0%)\n",
        "if quantidade <= 4:\n",
        "   desconto = 0 \n",
        "#se for entre 5  a 19, o desconto é de 0.03 (3%)\n",
        "elif 5 <= quantidade <= 19:\n",
        "   desconto = 0.03\n",
        "#se for entre 20  a 99, o desconto é de 0.06 (6%)\n",
        "elif 20 <= quantidade <= 99:\n",
        "   desconto = 0.06\n",
        "#se maior ou igual a 100, o desconto é de 0,10 (10%)\n",
        "else:\n",
        "   desconto = 0.10\n",
        "\n",
        "sem_desconto = valor * quantidade\n",
        "com_desconto = sem_desconto - sem_desconto * desconto\n",
        "\n",
        "print('O valor SEM desconto é: R${:.2f}' .format(sem_desconto))\n",
        "print('O valor COM desconto é: R${:.2f}' .format(com_desconto))\n",
        "\n",
        "#Identificação = JOSE AUGUSTO DE JESUS FILHO RU: 3034202"
      ],
      "metadata": {
        "colab": {
          "base_uri": "https://localhost:8080/"
        },
        "id": "donFPPlRjP2C",
        "outputId": "35a1f23c-22ff-4c4b-cb8d-1a8616ac2260"
      },
      "execution_count": 25,
      "outputs": [
        {
          "output_type": "stream",
          "name": "stdout",
          "text": [
            "Seja bem-vindo a loja do JOSE AUGUSTO DE JESUS FILHO RU: 3034202\n",
            "Insira o valor do produto: 12.40\n",
            "Insira a quantidade de produtos: 10\n",
            "O valor SEM desconto é: R$124.00\n",
            "O valor COM desconto é: R$120.28\n"
          ]
        }
      ]
    }
  ]
}